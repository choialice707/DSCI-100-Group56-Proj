{
 "cells": [
  {
   "cell_type": "markdown",
   "id": "74736dc0-9964-46e5-8558-794042fed86c",
   "metadata": {},
   "source": [
    "\n",
    "# **Using Physicochemical Elements to Predict Wine Quality**"
   ]
  },
  {
   "cell_type": "markdown",
   "id": "1e313dc7-17cc-4fa3-9060-3c800431210c",
   "metadata": {
    "tags": []
   },
   "source": [
    "## **Introduction**\n",
    "\n",
    " Wine is a complex beverage composed of numerous compounds that contribute to its overall quality and taste. It is viewed as a luxury good and it is enjoyed by many consumers all over the world. The beverage's quality is most commonly assessed through both physicochemical properties and sensory tests (Mor et al.), we used this vital piece of information as the basis for our project. In this data science project, we will determine the most influential physicochemical compounds within wine to most accurately predict overall wine quality.  \n",
    " \n",
    " <center><img src=\"data/red and white wine.jpeg\"></center>\n",
    "\n",
    "\n",
    " Through data analysis, we hope to find predictive relationships in certain compounds that make up wine in hopes of answering our project’s primary question: \n",
    " **How accurately can we predict the quality of wine with the most relevant physicochemical elements using the K-nearest neighbors classification algorithm?**\n",
    "\n",
    " We will use a 2009 “Wine Quality” dataset from Portugal which has two dataframes for red wine and white wine. We chose to build our model for predicting ren wine only, as it is the more commonly consumed wine. The data displays several different red wines based on physicochemical tests and their quality from sensory data as a score between 0 and 10. Portugal is one of the top 10 countries that export wine, for which the wine industry is investing in technologies for winemaking and selling. For this dataset, wine certification and quality assessment are key elements. \n",
    " \n",
    " These are the columns of the dataset.\n",
    " \n",
    "* 1 - fixed acidity (g(tartaric acid)/dm3) \n",
    "* 2 - volatile acidity (g(acetic acid)/dm3)\n",
    "* 3 - citric acid (g/dm3)\n",
    "* 4 - residual sugar (g/dm3)\n",
    "* 5 - chlorides (g(sodium chloride)/dm3)\n",
    "* 6 - free sulfur dioxide (mg/dm3)\n",
    "* 7 - total sulfur dioxide (mg/dm3)\n",
    "* 8 - density (g/cm3)\n",
    "* 9 - pH\n",
    "* 10 - sulphates (g(potassium sulphate)/dm3)\n",
    "* 11 - alcohol (vol.%)\n",
    "\n",
    " Output variable (based on sensory data): \n",
    "* 12 - quality (score between 0 and 10)\n",
    "\n",
    "\n",
    "Through comparing relationships between top relevant variables (backed up with research) using visualizations, we will pick the predictors which correlate with quality the most in order to achieve the highest prediction accuracy.\n"
   ]
  },
  {
   "cell_type": "markdown",
   "id": "cb11dec9-c54b-4a3f-8546-de66349b2d33",
   "metadata": {},
   "source": [
    "\n"
   ]
  },
  {
   "cell_type": "markdown",
   "id": "8889f79b-f69c-4c1b-9527-ba52cdb5b41d",
   "metadata": {
    "tags": []
   },
   "source": [
    "## **Methods and Results**"
   ]
  },
  {
   "cell_type": "markdown",
   "id": "4e245a27-a66c-43af-a400-e26356456e9d",
   "metadata": {},
   "source": [
    "overall methods"
   ]
  },
  {
   "cell_type": "code",
   "execution_count": 1,
   "id": "7a399a22-5afd-4d1f-afd7-8d8b6d1f07c6",
   "metadata": {},
   "outputs": [
    {
     "name": "stderr",
     "output_type": "stream",
     "text": [
      "── \u001b[1mAttaching packages\u001b[22m ─────────────────────────────────────── tidyverse 1.3.1 ──\n",
      "\n",
      "\u001b[32m✔\u001b[39m \u001b[34mggplot2\u001b[39m 3.3.6     \u001b[32m✔\u001b[39m \u001b[34mpurrr  \u001b[39m 0.3.4\n",
      "\u001b[32m✔\u001b[39m \u001b[34mtibble \u001b[39m 3.1.7     \u001b[32m✔\u001b[39m \u001b[34mdplyr  \u001b[39m 1.0.9\n",
      "\u001b[32m✔\u001b[39m \u001b[34mtidyr  \u001b[39m 1.2.0     \u001b[32m✔\u001b[39m \u001b[34mstringr\u001b[39m 1.4.0\n",
      "\u001b[32m✔\u001b[39m \u001b[34mreadr  \u001b[39m 2.1.2     \u001b[32m✔\u001b[39m \u001b[34mforcats\u001b[39m 0.5.1\n",
      "\n",
      "── \u001b[1mConflicts\u001b[22m ────────────────────────────────────────── tidyverse_conflicts() ──\n",
      "\u001b[31m✖\u001b[39m \u001b[34mdplyr\u001b[39m::\u001b[32mfilter()\u001b[39m masks \u001b[34mstats\u001b[39m::filter()\n",
      "\u001b[31m✖\u001b[39m \u001b[34mdplyr\u001b[39m::\u001b[32mlag()\u001b[39m    masks \u001b[34mstats\u001b[39m::lag()\n",
      "\n",
      "── \u001b[1mAttaching packages\u001b[22m ────────────────────────────────────── tidymodels 1.0.0 ──\n",
      "\n",
      "\u001b[32m✔\u001b[39m \u001b[34mbroom       \u001b[39m 1.0.0     \u001b[32m✔\u001b[39m \u001b[34mrsample     \u001b[39m 1.0.0\n",
      "\u001b[32m✔\u001b[39m \u001b[34mdials       \u001b[39m 1.0.0     \u001b[32m✔\u001b[39m \u001b[34mtune        \u001b[39m 1.0.0\n",
      "\u001b[32m✔\u001b[39m \u001b[34minfer       \u001b[39m 1.0.2     \u001b[32m✔\u001b[39m \u001b[34mworkflows   \u001b[39m 1.0.0\n",
      "\u001b[32m✔\u001b[39m \u001b[34mmodeldata   \u001b[39m 1.0.0     \u001b[32m✔\u001b[39m \u001b[34mworkflowsets\u001b[39m 1.0.0\n",
      "\u001b[32m✔\u001b[39m \u001b[34mparsnip     \u001b[39m 1.0.0     \u001b[32m✔\u001b[39m \u001b[34myardstick   \u001b[39m 1.0.0\n",
      "\u001b[32m✔\u001b[39m \u001b[34mrecipes     \u001b[39m 1.0.1     \n",
      "\n",
      "── \u001b[1mConflicts\u001b[22m ───────────────────────────────────────── tidymodels_conflicts() ──\n",
      "\u001b[31m✖\u001b[39m \u001b[34mscales\u001b[39m::\u001b[32mdiscard()\u001b[39m masks \u001b[34mpurrr\u001b[39m::discard()\n",
      "\u001b[31m✖\u001b[39m \u001b[34mdplyr\u001b[39m::\u001b[32mfilter()\u001b[39m   masks \u001b[34mstats\u001b[39m::filter()\n",
      "\u001b[31m✖\u001b[39m \u001b[34mrecipes\u001b[39m::\u001b[32mfixed()\u001b[39m  masks \u001b[34mstringr\u001b[39m::fixed()\n",
      "\u001b[31m✖\u001b[39m \u001b[34mdplyr\u001b[39m::\u001b[32mlag()\u001b[39m      masks \u001b[34mstats\u001b[39m::lag()\n",
      "\u001b[31m✖\u001b[39m \u001b[34myardstick\u001b[39m::\u001b[32mspec()\u001b[39m masks \u001b[34mreadr\u001b[39m::spec()\n",
      "\u001b[31m✖\u001b[39m \u001b[34mrecipes\u001b[39m::\u001b[32mstep()\u001b[39m   masks \u001b[34mstats\u001b[39m::step()\n",
      "\u001b[34m•\u001b[39m Use suppressPackageStartupMessages() to eliminate package startup messages\n",
      "\n",
      "Registered S3 method overwritten by 'GGally':\n",
      "  method from   \n",
      "  +.gg   ggplot2\n",
      "\n"
     ]
    }
   ],
   "source": [
    "#Loading the relevant libraries\n",
    "\n",
    "library(tidyverse)\n",
    "library(tidymodels)\n",
    "library(repr)\n",
    "library(RColorBrewer)\n",
    "library(GGally)\n"
   ]
  },
  {
   "cell_type": "markdown",
   "id": "0a1612c9-45a9-4a3c-8d9e-33671ffeb40d",
   "metadata": {},
   "source": [
    "### Loading and Wrangling"
   ]
  },
  {
   "cell_type": "code",
   "execution_count": 3,
   "id": "3ca350c3-ff3a-4e6f-938d-52b0f06aa72b",
   "metadata": {},
   "outputs": [
    {
     "name": "stderr",
     "output_type": "stream",
     "text": [
      "\u001b[36mℹ\u001b[39m Using \u001b[34m\u001b[34m\"','\"\u001b[34m\u001b[39m as decimal and \u001b[34m\u001b[34m\"'.'\"\u001b[34m\u001b[39m as grouping mark. Use `read_delim()` for more control.\n",
      "\n",
      "Warning message:\n",
      "“One or more parsing issues, see `problems()` for details”\n",
      "\u001b[1mRows: \u001b[22m\u001b[34m1599\u001b[39m \u001b[1mColumns: \u001b[22m\u001b[34m12\u001b[39m\n",
      "\u001b[36m──\u001b[39m \u001b[1mColumn specification\u001b[22m \u001b[36m────────────────────────────────────────────────────────\u001b[39m\n",
      "\u001b[1mDelimiter:\u001b[22m \";\"\n",
      "\u001b[31mchr\u001b[39m (5): volatile acidity, citric acid, chlorides, density, sulphates\n",
      "\u001b[32mdbl\u001b[39m (2): total sulfur dioxide, quality\n",
      "\n",
      "\u001b[36mℹ\u001b[39m Use `spec()` to retrieve the full column specification for this data.\n",
      "\u001b[36mℹ\u001b[39m Specify the column types or set `show_col_types = FALSE` to quiet this message.\n"
     ]
    },
    {
     "data": {
      "text/html": [
       "<table class=\"dataframe\">\n",
       "<caption>A tibble: 6 × 12</caption>\n",
       "<thead>\n",
       "\t<tr><th scope=col>fixed acidity</th><th scope=col>volatile acidity</th><th scope=col>citric acid</th><th scope=col>residual sugar</th><th scope=col>chlorides</th><th scope=col>free sulfur dioxide</th><th scope=col>total sulfur dioxide</th><th scope=col>density</th><th scope=col>pH</th><th scope=col>sulphates</th><th scope=col>alcohol</th><th scope=col>quality</th></tr>\n",
       "\t<tr><th scope=col>&lt;dbl&gt;</th><th scope=col>&lt;dbl&gt;</th><th scope=col>&lt;dbl&gt;</th><th scope=col>&lt;dbl&gt;</th><th scope=col>&lt;dbl&gt;</th><th scope=col>&lt;dbl&gt;</th><th scope=col>&lt;dbl&gt;</th><th scope=col>&lt;dbl&gt;</th><th scope=col>&lt;dbl&gt;</th><th scope=col>&lt;dbl&gt;</th><th scope=col>&lt;dbl&gt;</th><th scope=col>&lt;fct&gt;</th></tr>\n",
       "</thead>\n",
       "<tbody>\n",
       "\t<tr><td> 74</td><td>0.70</td><td>0.00</td><td>19</td><td>0.076</td><td>11</td><td>34</td><td>0.9978</td><td>351</td><td>0.56</td><td>94</td><td>5</td></tr>\n",
       "\t<tr><td> 78</td><td>0.88</td><td>0.00</td><td>26</td><td>0.098</td><td>25</td><td>67</td><td>0.9968</td><td> 32</td><td>0.68</td><td>98</td><td>5</td></tr>\n",
       "\t<tr><td> 78</td><td>0.76</td><td>0.04</td><td>23</td><td>0.092</td><td>15</td><td>54</td><td>0.9970</td><td>326</td><td>0.65</td><td>98</td><td>5</td></tr>\n",
       "\t<tr><td>112</td><td>0.28</td><td>0.56</td><td>19</td><td>0.075</td><td>17</td><td>60</td><td>0.9980</td><td>316</td><td>0.58</td><td>98</td><td>6</td></tr>\n",
       "\t<tr><td> 74</td><td>0.70</td><td>0.00</td><td>19</td><td>0.076</td><td>11</td><td>34</td><td>0.9978</td><td>351</td><td>0.56</td><td>94</td><td>5</td></tr>\n",
       "\t<tr><td> 74</td><td>0.66</td><td>0.00</td><td>18</td><td>0.075</td><td>13</td><td>40</td><td>0.9978</td><td>351</td><td>0.56</td><td>94</td><td>5</td></tr>\n",
       "</tbody>\n",
       "</table>\n"
      ],
      "text/latex": [
       "A tibble: 6 × 12\n",
       "\\begin{tabular}{llllllllllll}\n",
       " fixed acidity & volatile acidity & citric acid & residual sugar & chlorides & free sulfur dioxide & total sulfur dioxide & density & pH & sulphates & alcohol & quality\\\\\n",
       " <dbl> & <dbl> & <dbl> & <dbl> & <dbl> & <dbl> & <dbl> & <dbl> & <dbl> & <dbl> & <dbl> & <fct>\\\\\n",
       "\\hline\n",
       "\t  74 & 0.70 & 0.00 & 19 & 0.076 & 11 & 34 & 0.9978 & 351 & 0.56 & 94 & 5\\\\\n",
       "\t  78 & 0.88 & 0.00 & 26 & 0.098 & 25 & 67 & 0.9968 &  32 & 0.68 & 98 & 5\\\\\n",
       "\t  78 & 0.76 & 0.04 & 23 & 0.092 & 15 & 54 & 0.9970 & 326 & 0.65 & 98 & 5\\\\\n",
       "\t 112 & 0.28 & 0.56 & 19 & 0.075 & 17 & 60 & 0.9980 & 316 & 0.58 & 98 & 6\\\\\n",
       "\t  74 & 0.70 & 0.00 & 19 & 0.076 & 11 & 34 & 0.9978 & 351 & 0.56 & 94 & 5\\\\\n",
       "\t  74 & 0.66 & 0.00 & 18 & 0.075 & 13 & 40 & 0.9978 & 351 & 0.56 & 94 & 5\\\\\n",
       "\\end{tabular}\n"
      ],
      "text/markdown": [
       "\n",
       "A tibble: 6 × 12\n",
       "\n",
       "| fixed acidity &lt;dbl&gt; | volatile acidity &lt;dbl&gt; | citric acid &lt;dbl&gt; | residual sugar &lt;dbl&gt; | chlorides &lt;dbl&gt; | free sulfur dioxide &lt;dbl&gt; | total sulfur dioxide &lt;dbl&gt; | density &lt;dbl&gt; | pH &lt;dbl&gt; | sulphates &lt;dbl&gt; | alcohol &lt;dbl&gt; | quality &lt;fct&gt; |\n",
       "|---|---|---|---|---|---|---|---|---|---|---|---|\n",
       "|  74 | 0.70 | 0.00 | 19 | 0.076 | 11 | 34 | 0.9978 | 351 | 0.56 | 94 | 5 |\n",
       "|  78 | 0.88 | 0.00 | 26 | 0.098 | 25 | 67 | 0.9968 |  32 | 0.68 | 98 | 5 |\n",
       "|  78 | 0.76 | 0.04 | 23 | 0.092 | 15 | 54 | 0.9970 | 326 | 0.65 | 98 | 5 |\n",
       "| 112 | 0.28 | 0.56 | 19 | 0.075 | 17 | 60 | 0.9980 | 316 | 0.58 | 98 | 6 |\n",
       "|  74 | 0.70 | 0.00 | 19 | 0.076 | 11 | 34 | 0.9978 | 351 | 0.56 | 94 | 5 |\n",
       "|  74 | 0.66 | 0.00 | 18 | 0.075 | 13 | 40 | 0.9978 | 351 | 0.56 | 94 | 5 |\n",
       "\n"
      ],
      "text/plain": [
       "  fixed acidity volatile acidity citric acid residual sugar chlorides\n",
       "1  74           0.70             0.00        19             0.076    \n",
       "2  78           0.88             0.00        26             0.098    \n",
       "3  78           0.76             0.04        23             0.092    \n",
       "4 112           0.28             0.56        19             0.075    \n",
       "5  74           0.70             0.00        19             0.076    \n",
       "6  74           0.66             0.00        18             0.075    \n",
       "  free sulfur dioxide total sulfur dioxide density pH  sulphates alcohol\n",
       "1 11                  34                   0.9978  351 0.56      94     \n",
       "2 25                  67                   0.9968   32 0.68      98     \n",
       "3 15                  54                   0.9970  326 0.65      98     \n",
       "4 17                  60                   0.9980  316 0.58      98     \n",
       "5 11                  34                   0.9978  351 0.56      94     \n",
       "6 13                  40                   0.9978  351 0.56      94     \n",
       "  quality\n",
       "1 5      \n",
       "2 5      \n",
       "3 5      \n",
       "4 6      \n",
       "5 5      \n",
       "6 5      "
      ]
     },
     "metadata": {},
     "output_type": "display_data"
    },
    {
     "data": {
      "text/html": [
       "<table class=\"dataframe\">\n",
       "<caption>A tibble: 6 × 12</caption>\n",
       "<thead>\n",
       "\t<tr><th scope=col>fixed acidity</th><th scope=col>volatile acidity</th><th scope=col>citric acid</th><th scope=col>residual sugar</th><th scope=col>chlorides</th><th scope=col>free sulfur dioxide</th><th scope=col>total sulfur dioxide</th><th scope=col>density</th><th scope=col>pH</th><th scope=col>sulphates</th><th scope=col>alcohol</th><th scope=col>quality</th></tr>\n",
       "\t<tr><th scope=col>&lt;dbl&gt;</th><th scope=col>&lt;dbl&gt;</th><th scope=col>&lt;dbl&gt;</th><th scope=col>&lt;dbl&gt;</th><th scope=col>&lt;dbl&gt;</th><th scope=col>&lt;dbl&gt;</th><th scope=col>&lt;dbl&gt;</th><th scope=col>&lt;dbl&gt;</th><th scope=col>&lt;dbl&gt;</th><th scope=col>&lt;dbl&gt;</th><th scope=col>&lt;dbl&gt;</th><th scope=col>&lt;fct&gt;</th></tr>\n",
       "</thead>\n",
       "<tbody>\n",
       "\t<tr><td>68</td><td>0.620</td><td>0.08</td><td>19</td><td>0.068</td><td>28</td><td>38</td><td>0.99651</td><td>342</td><td>0.82</td><td> 95</td><td>6</td></tr>\n",
       "\t<tr><td>62</td><td>0.600</td><td>0.08</td><td> 2</td><td>0.090</td><td>32</td><td>44</td><td>0.99490</td><td>345</td><td>0.58</td><td>105</td><td>5</td></tr>\n",
       "\t<tr><td>59</td><td>0.550</td><td>0.10</td><td>22</td><td>0.062</td><td>39</td><td>51</td><td>0.99512</td><td>352</td><td>0.76</td><td>112</td><td>6</td></tr>\n",
       "\t<tr><td>63</td><td>0.510</td><td>0.13</td><td>23</td><td>0.076</td><td>29</td><td>40</td><td>0.99574</td><td>342</td><td>0.75</td><td> 11</td><td>6</td></tr>\n",
       "\t<tr><td>59</td><td>0.645</td><td>0.12</td><td> 2</td><td>0.075</td><td>32</td><td>44</td><td>0.99547</td><td>357</td><td>0.71</td><td>102</td><td>5</td></tr>\n",
       "\t<tr><td> 6</td><td>0.310</td><td>0.47</td><td>36</td><td>0.067</td><td>18</td><td>42</td><td>0.99549</td><td>339</td><td>0.66</td><td> 11</td><td>6</td></tr>\n",
       "</tbody>\n",
       "</table>\n"
      ],
      "text/latex": [
       "A tibble: 6 × 12\n",
       "\\begin{tabular}{llllllllllll}\n",
       " fixed acidity & volatile acidity & citric acid & residual sugar & chlorides & free sulfur dioxide & total sulfur dioxide & density & pH & sulphates & alcohol & quality\\\\\n",
       " <dbl> & <dbl> & <dbl> & <dbl> & <dbl> & <dbl> & <dbl> & <dbl> & <dbl> & <dbl> & <dbl> & <fct>\\\\\n",
       "\\hline\n",
       "\t 68 & 0.620 & 0.08 & 19 & 0.068 & 28 & 38 & 0.99651 & 342 & 0.82 &  95 & 6\\\\\n",
       "\t 62 & 0.600 & 0.08 &  2 & 0.090 & 32 & 44 & 0.99490 & 345 & 0.58 & 105 & 5\\\\\n",
       "\t 59 & 0.550 & 0.10 & 22 & 0.062 & 39 & 51 & 0.99512 & 352 & 0.76 & 112 & 6\\\\\n",
       "\t 63 & 0.510 & 0.13 & 23 & 0.076 & 29 & 40 & 0.99574 & 342 & 0.75 &  11 & 6\\\\\n",
       "\t 59 & 0.645 & 0.12 &  2 & 0.075 & 32 & 44 & 0.99547 & 357 & 0.71 & 102 & 5\\\\\n",
       "\t  6 & 0.310 & 0.47 & 36 & 0.067 & 18 & 42 & 0.99549 & 339 & 0.66 &  11 & 6\\\\\n",
       "\\end{tabular}\n"
      ],
      "text/markdown": [
       "\n",
       "A tibble: 6 × 12\n",
       "\n",
       "| fixed acidity &lt;dbl&gt; | volatile acidity &lt;dbl&gt; | citric acid &lt;dbl&gt; | residual sugar &lt;dbl&gt; | chlorides &lt;dbl&gt; | free sulfur dioxide &lt;dbl&gt; | total sulfur dioxide &lt;dbl&gt; | density &lt;dbl&gt; | pH &lt;dbl&gt; | sulphates &lt;dbl&gt; | alcohol &lt;dbl&gt; | quality &lt;fct&gt; |\n",
       "|---|---|---|---|---|---|---|---|---|---|---|---|\n",
       "| 68 | 0.620 | 0.08 | 19 | 0.068 | 28 | 38 | 0.99651 | 342 | 0.82 |  95 | 6 |\n",
       "| 62 | 0.600 | 0.08 |  2 | 0.090 | 32 | 44 | 0.99490 | 345 | 0.58 | 105 | 5 |\n",
       "| 59 | 0.550 | 0.10 | 22 | 0.062 | 39 | 51 | 0.99512 | 352 | 0.76 | 112 | 6 |\n",
       "| 63 | 0.510 | 0.13 | 23 | 0.076 | 29 | 40 | 0.99574 | 342 | 0.75 |  11 | 6 |\n",
       "| 59 | 0.645 | 0.12 |  2 | 0.075 | 32 | 44 | 0.99547 | 357 | 0.71 | 102 | 5 |\n",
       "|  6 | 0.310 | 0.47 | 36 | 0.067 | 18 | 42 | 0.99549 | 339 | 0.66 |  11 | 6 |\n",
       "\n"
      ],
      "text/plain": [
       "  fixed acidity volatile acidity citric acid residual sugar chlorides\n",
       "1 68            0.620            0.08        19             0.068    \n",
       "2 62            0.600            0.08         2             0.090    \n",
       "3 59            0.550            0.10        22             0.062    \n",
       "4 63            0.510            0.13        23             0.076    \n",
       "5 59            0.645            0.12         2             0.075    \n",
       "6  6            0.310            0.47        36             0.067    \n",
       "  free sulfur dioxide total sulfur dioxide density pH  sulphates alcohol\n",
       "1 28                  38                   0.99651 342 0.82       95    \n",
       "2 32                  44                   0.99490 345 0.58      105    \n",
       "3 39                  51                   0.99512 352 0.76      112    \n",
       "4 29                  40                   0.99574 342 0.75       11    \n",
       "5 32                  44                   0.99547 357 0.71      102    \n",
       "6 18                  42                   0.99549 339 0.66       11    \n",
       "  quality\n",
       "1 6      \n",
       "2 5      \n",
       "3 6      \n",
       "4 6      \n",
       "5 5      \n",
       "6 6      "
      ]
     },
     "metadata": {},
     "output_type": "display_data"
    }
   ],
   "source": [
    "wine_data <- read_csv2(\"https://raw.githubusercontent.com/choialice707/DSCI-100-Group56-Proj/main/winequality-red.csv\") |>\n",
    "    mutate(quality = as_factor(quality)) |>\n",
    "    filter(alcohol < 150) |>\n",
    "        mutate(`volatile acidity` = as.numeric(`volatile acidity`),\n",
    "                `citric acid` = as.numeric(`citric acid`),\n",
    "                chlorides = as.numeric(chlorides),\n",
    "                density = as.numeric(density),\n",
    "                sulphates = as.numeric(sulphates)) |>\n",
    "na.omit()\n",
    "head(wine_data)\n",
    "tail(wine_data)"
   ]
  },
  {
   "cell_type": "markdown",
   "id": "746a0385-1166-4e2d-9788-57d247b7c831",
   "metadata": {},
   "source": [
    " The first step in our data analysis, after loading the necessary packgages, was to read the \"wine quality\" dataset imported onto Jupyter. We then filtered the alcohol variable to be less than 150 to remove any outliers that would otherwise skew the visualization to be clustered in one line. This allowed us to better compare the variables. Finally, we mutated each of the variables with as.numeric to convert the character vectors into a numeric vector, so that the axis numbers are more easily readable."
   ]
  },
  {
   "cell_type": "code",
   "execution_count": null,
   "id": "a3f6e68b-d54a-4c34-9e34-b75c8e1b2872",
   "metadata": {},
   "outputs": [],
   "source": [
    "wine_data_scaled <- wine_data |> \n",
    " mutate(scaled_fixed_acidity = scale(`fixed acidity`, center = TRUE), \n",
    "        scaled_volatile_acidity = scale(`volatile acidity`, center = TRUE),\n",
    "        scaled_citric_acid = scale(`citric acid`, center = TRUE),\n",
    "        scaled_chlorides = scale(chlorides, center = TRUE),\n",
    "        scaled_free_sulfur_dioxide = scale(`free sulfur dioxide`, center = TRUE),\n",
    "        scaled_total_sulfur_dioxide = scale(`total sulfur dioxide`, center = TRUE),\n",
    "        scaled_density = scale(density, center = TRUE),\n",
    "        scaled_pH = scale(pH, center = TRUE),\n",
    "        scaled_sulphates = scale(sulphates, center = TRUE),\n",
    "        scaled_alcohol = scale(alcohol, center = TRUE))\n",
    "\n",
    "head(wine_data_scaled)"
   ]
  },
  {
   "cell_type": "markdown",
   "id": "b08398ab-d9b6-4c5c-aa52-b255481a1138",
   "metadata": {},
   "source": [
    " Here the data used was scaled to ensure clear visualizations and facilitate effective comparison of variables since the distances between the points would have otherwise have different significances for the y and x axis . Scaling was performed using standardization, which standardized the range and distribution of the physicochemical elements. This process allowed for a fair and meaningful visual analysis, ensuring that variables with different scales did not dominate the visualizations. As a result, scaling the data improved the clarity and interpretability of the visual comparisons, aiding in the assessment of relationships between the physicochemical elements and wine quality."
   ]
  },
  {
   "cell_type": "markdown",
   "id": "fb141c2a-1699-4ffd-83c0-78ae9bcc2c69",
   "metadata": {},
   "source": [
    "### Splitting the Data"
   ]
  },
  {
   "cell_type": "code",
   "execution_count": null,
   "id": "2a837762-7ab7-40fa-a9af-5b97d5ab06a1",
   "metadata": {},
   "outputs": [],
   "source": [
    "set.seed(1234) #We used the seed to be able to reproduce the results\n",
    "\n",
    "wine_split <- initial_split(wine_data_scaled, prop = 0.75 , strata = quality)  \n",
    "wine_train <- training(wine_split)   \n",
    "wine_test <- testing(wine_split)\n",
    "\n",
    "head(wine_train)\n",
    "head(wine_test)"
   ]
  },
  {
   "cell_type": "markdown",
   "id": "35463c1a-941b-4ca3-a42d-3f0d07d0c546",
   "metadata": {},
   "source": [
    "### Preliminary Summary"
   ]
  },
  {
   "cell_type": "code",
   "execution_count": null,
   "id": "ffa1ba8e-f6e1-4bcd-a4d9-b9509a44228f",
   "metadata": {},
   "outputs": [],
   "source": [
    "wine_summary <- wine_train |>\n",
    "    group_by(quality) |>\n",
    "    summarize(count_per_quality = n()) \n",
    "\n",
    "wine_summary"
   ]
  },
  {
   "cell_type": "code",
   "execution_count": null,
   "id": "82130a41-f1fb-492d-a60a-64bfdc6e0e23",
   "metadata": {},
   "outputs": [],
   "source": [
    "options(repr.plot.width = 8, repr.plot.height = 8) \n",
    "\n",
    "wine_summary_plot <- wine_summary |>\n",
    "    ggplot(aes(x = quality, y = count_per_quality)) +\n",
    "    geom_bar(stat = \"identity\") +\n",
    "    labs(x = \"Quality of Wine\", y = \"Total instances\")\n",
    "    \n",
    "wine_summary_plot"
   ]
  },
  {
   "cell_type": "markdown",
   "id": "a39010eb-6c0b-4550-a6f0-5c356dd725af",
   "metadata": {},
   "source": [
    ">**Figure 1:** "
   ]
  },
  {
   "cell_type": "markdown",
   "id": "6c30244c-a103-47d8-a9ec-cb2aed9c159e",
   "metadata": {},
   "source": [
    "Talk ab total wine counts, Talk ab distribution, how it's mostly 5-6 and how this is unbalanced and what we would do, but that it is not working in this case and will discuss further in the discussion."
   ]
  },
  {
   "cell_type": "markdown",
   "id": "e5068c71-28a2-46f8-9a0a-53ea5b9a7641",
   "metadata": {},
   "source": [
    "### Preliminary Visualization for Selecting Predictors"
   ]
  },
  {
   "cell_type": "code",
   "execution_count": null,
   "id": "5c542e93-d9b2-4f1f-9e69-84b8100422c0",
   "metadata": {},
   "outputs": [],
   "source": [
    "library(gridExtra)\n",
    "options(repr.plot.width = 25, repr.plot.height = 6) \n",
    "\n",
    "wine_plot1 <- wine_train |>\n",
    "  ggplot(aes(x = scaled_sulphates, y = scaled_pH, color = quality)) +\n",
    "  geom_point(alpha = 0.6) +\n",
    "  labs(x = \"Sulphates \", \n",
    "       y = \"pH\",\n",
    "       color = \"Quality\") +\n",
    "  theme(text = element_text(size = 17))+\n",
    "scale_color_brewer(palette = \"Set2\")\n",
    "\n",
    "wine_plot2 <- wine_train |>\n",
    "  ggplot(aes(x = scaled_sulphates, y = scaled_total_sulfur_dioxide, color = quality)) +\n",
    "  geom_point(alpha = 0.6) +\n",
    "  labs(x = \"Sulphates \", \n",
    "       y = \"Total Sulfur Dioxide\",\n",
    "       color = \"Quality\") +\n",
    "  theme(text = element_text(size = 17))+\n",
    "scale_color_brewer(palette = \"Set2\")\n",
    "\n",
    "wine_plot3 <- wine_train |>\n",
    "  ggplot(aes(x = scaled_sulphates, y = scaled_alcohol, color = quality)) +\n",
    "  geom_point(alpha = 0.6) +\n",
    "  labs(x = \"Sulphates\", \n",
    "       y = \"Alcohol\",\n",
    "       color = \"Quality\") +\n",
    "  theme(text = element_text(size = 17))+\n",
    "scale_color_brewer(palette = \"Set2\")\n",
    "\n",
    "wine_plot4 <- wine_train |>\n",
    "  ggplot(aes(x = scaled_sulphates, y = scaled_volatile_acidity, color = quality)) +\n",
    "  geom_point(alpha = 0.6) +\n",
    "  labs(x = \"Sulphates\", \n",
    "       y = \"Volatile Acidity\",\n",
    "       color = \"Quality\") +\n",
    "  theme(text = element_text(size = 17))+\n",
    "scale_color_brewer(palette = \"Set2\")\n",
    "\n",
    "#############\n",
    "\n",
    "\n",
    "wine_plot5 <- wine_train |>\n",
    "  ggplot(aes(x = scaled_pH, y = scaled_total_sulfur_dioxide, color = quality)) +\n",
    "  geom_point(alpha = 0.6) +\n",
    "  labs(x = \"pH\", \n",
    "       y = \"Total Sulfur Dioxide\",\n",
    "       color = \"Quality\") +\n",
    "  theme(text = element_text(size = 17))+\n",
    "scale_color_brewer(palette = \"Set2\")\n",
    "\n",
    "wine_plot6 <- wine_train |>\n",
    "  ggplot(aes(x = scaled_pH, y = scaled_alcohol, color = quality)) +\n",
    "  geom_point(alpha = 0.6) +\n",
    "  labs(x = \"pH\", \n",
    "       y = \"Alcohol\",\n",
    "       color = \"Quality\") +\n",
    "  theme(text = element_text(size = 17))+\n",
    "scale_color_brewer(palette = \"Set2\")\n",
    "\n",
    "wine_plot7 <- wine_train |>\n",
    "  ggplot(aes(x = scaled_pH, y = scaled_volatile_acidity, color = quality)) +\n",
    "  geom_point(alpha = 0.6) +\n",
    "  labs(x = \"pH\", \n",
    "       y = \"Volatile Acidity\",\n",
    "       color = \"Quality\") +\n",
    "  theme(text = element_text(size = 17))+\n",
    "scale_color_brewer(palette = \"Set2\")\n",
    "\n",
    "#########\n",
    "\n",
    "\n",
    "wine_plot8 <- wine_train |>\n",
    "  ggplot(aes(x = scaled_total_sulfur_dioxide, y = scaled_alcohol, color = quality)) +\n",
    "  geom_point(alpha = 0.6) +\n",
    "  labs(x = \"Total_sulfur_dioxide\", \n",
    "       y = \"Scaled Alcohol\",\n",
    "       color = \"Quality\") +\n",
    "  theme(text = element_text(size = 17))+\n",
    "scale_color_brewer(palette = \"Set2\")\n",
    "\n",
    "wine_plot9 <- wine_train |>\n",
    "  ggplot(aes(x = scaled_total_sulfur_dioxide, y = scaled_volatile_acidity, color = quality)) +\n",
    "  geom_point(alpha = 0.6) +\n",
    "  labs(x = \"Total Sulfur Dioxide\", \n",
    "       y = \"Volatile Acidity\",\n",
    "       color = \"Quality\") +\n",
    "  theme(text = element_text(size = 17))+\n",
    "scale_color_brewer(palette = \"Set2\")\n",
    "\n",
    "##########\n",
    "\n",
    "\n",
    "wine_plot10 <- wine_train |>\n",
    "  ggplot(aes(x = scaled_alcohol, y = scaled_volatile_acidity, color = quality)) +\n",
    "  geom_point(alpha = 0.6) +\n",
    "  labs(x = \"Alcohol\", \n",
    "       y = \"Volatile Acidity\",\n",
    "       color = \"Quality\") +\n",
    "  theme(text = element_text(size = 17))+\n",
    "scale_color_brewer(palette = \"Set2\")\n",
    "\n",
    "\n",
    "\n",
    "grid.arrange(wine_plot1, wine_plot2, wine_plot3, wine_plot4, nrow = 1, top = '.')\n",
    "grid.arrange(wine_plot5, wine_plot6, wine_plot7, nrow = 1, top = '.')\n",
    "grid.arrange(wine_plot8, wine_plot9, wine_plot10, nrow = 1, top = '.')\n",
    "\n",
    "     "
   ]
  },
  {
   "cell_type": "markdown",
   "id": "36cad8b7-e97b-4c1f-8528-9707df0c2bd3",
   "metadata": {},
   "source": [
    ">**Figure 2:**"
   ]
  },
  {
   "cell_type": "markdown",
   "id": "9cc4656f-a8b6-4cae-8f7d-213219c292da",
   "metadata": {},
   "source": [
    " To determine the variables to include, we referred to a research paper by Cortez et al. as a valuable source of information. According to the findings presented in the paper, the top five relevant variables for predicting wine quality were sulphates, pH, total sulfur dioxide, alcohol, and volatile acidity. We conducted a comparative analysis among these five elements to validate and select the most suitable variables for our prediction model.\n",
    "\n",
    " By examining the relationships and patterns between these variables, we aimed to identify which ones exhibited the strongest correlations and clear distributions with wine quality. This was done by visually examining the patterns and trends through plotting each variable against each other. We then assessed the strength of the relationships, selecting the variables with the highest correlations as the most relevant for our model.\n",
    "\n",
    " Upon analyzing the results of our comparison, we determined that sulphates, sulfur dioxide, pH values, and alcohol displayed the most consistent and significant associations with wine quality. Therefore, these variables were selected as the most appropriate for inclusion in our prediction model using the KNN classification algorithm."
   ]
  },
  {
   "cell_type": "markdown",
   "id": "f7bae675-798a-4c4f-b743-7a33895a7722",
   "metadata": {},
   "source": [
    "### Data analysis: Building and Training the Classifier Model"
   ]
  },
  {
   "cell_type": "code",
   "execution_count": null,
   "id": "44e5c334-4730-4d43-96ca-eb9dcadb563a",
   "metadata": {},
   "outputs": [],
   "source": [
    "set.seed(1234)\n",
    "\n",
    "wine_recipe <- recipe(quality ~ scaled_sulphates + scaled_pH + scaled_total_sulfur_dioxide + scaled_alcohol, data = wine_train)\n",
    "wine_recipe\n",
    "\n",
    "wine_tune <- nearest_neighbor(weight_func = \"rectangular\", neighbors = tune()) |>\n",
    "      set_engine(\"kknn\") |>\n",
    "      set_mode(\"classification\")\n",
    "wine_tune\n"
   ]
  },
  {
   "cell_type": "code",
   "execution_count": null,
   "id": "f4359cbe-26a2-450b-8e07-7026454b4fb1",
   "metadata": {},
   "outputs": [],
   "source": [
    "set.seed(1234)\n",
    "\n",
    "wine_vfold <- vfold_cv(wine_train, v = 5, strata = quality)"
   ]
  },
  {
   "cell_type": "code",
   "execution_count": null,
   "id": "12c01516-4584-4438-a7f8-a8b5b30cb1f6",
   "metadata": {},
   "outputs": [],
   "source": [
    "set.seed(1234)\n",
    "\n",
    "k_vals <- tibble(neighbors = seq(2, 10, 1))\n",
    "\n",
    "wine_results <- workflow() |>\n",
    "      add_recipe(wine_recipe) |>\n",
    "      add_model(wine_tune) |>\n",
    "      tune_grid(resamples = wine_vfold, grid = k_vals) |>\n",
    "      collect_metrics()\n",
    "wine_results"
   ]
  },
  {
   "cell_type": "code",
   "execution_count": null,
   "id": "98cfaec4-ca4d-4bac-a850-7856ce4e32ce",
   "metadata": {},
   "outputs": [],
   "source": [
    "set.seed(1234)\n",
    "\n",
    "wine_accuracies <- wine_results |>\n",
    "    filter(.metric == \"accuracy\")\n",
    "wine_accuracies"
   ]
  },
  {
   "cell_type": "code",
   "execution_count": null,
   "id": "7ff771dd-bb66-4c26-b677-e98f899032cd",
   "metadata": {},
   "outputs": [],
   "source": [
    "set.seed(1234)\n",
    "\n",
    "options(repr.plot.width = 7, repr.plot.height = 7) \n",
    "\n",
    "accuracy_vs_k_plot <- wine_accuracies |>\n",
    "    ggplot(aes(x = neighbors, y = mean))+\n",
    "    geom_point() +\n",
    "    geom_line() +\n",
    "    labs(x = \"Neighbors\", y = \"Accuracy Estimate\") +\n",
    "    scale_x_continuous(breaks = seq(0, 10, by = 1)) +  # adjusting the x-axis\n",
    "    scale_y_continuous(limits = c(0.5, 0.6)) # adjusting the y-axis\n",
    "\n",
    "accuracy_vs_k_plot"
   ]
  },
  {
   "cell_type": "markdown",
   "id": "53b95644-9d7a-4645-89b9-94d36f4af5fc",
   "metadata": {},
   "source": [
    ">**Figure 3:**"
   ]
  },
  {
   "cell_type": "code",
   "execution_count": null,
   "id": "f9a30f9f-2f10-4a5d-8b6e-42954f7d7f1e",
   "metadata": {},
   "outputs": [],
   "source": [
    "set.seed(1234)\n",
    "\n",
    "choice_of_k <- wine_accuracies |>\n",
    "    arrange(desc(mean)) |>\n",
    "    slice(1) |>\n",
    "    pull(neighbors)\n",
    "choice_of_k"
   ]
  },
  {
   "cell_type": "code",
   "execution_count": null,
   "id": "befa8949-d7b9-4b35-8256-e77f8513f4a2",
   "metadata": {},
   "outputs": [],
   "source": [
    "set.seed(1234) \n",
    "\n",
    "wine_recipe_2 <- recipe(quality ~ scaled_sulphates + scaled_pH + scaled_total_sulfur_dioxide + scaled_alcohol, data = wine_train)\n",
    "wine_recipe_2\n",
    "\n",
    "wine_spec <-  nearest_neighbor(weight_func = \"rectangular\", neighbors = choice_of_k)|>\n",
    "    set_engine(\"kknn\") |>\n",
    "     set_mode(\"classification\")\n",
    "\n",
    "wine_spec\n",
    "\n"
   ]
  },
  {
   "cell_type": "code",
   "execution_count": null,
   "id": "5f8752d7-4ec8-413f-a41a-031d4c2f0e16",
   "metadata": {},
   "outputs": [],
   "source": [
    "set.seed(1234)\n",
    "\n",
    "wine_fit <- workflow() |>\n",
    "add_recipe(wine_recipe_2) |>\n",
    "add_model(wine_spec) |>\n",
    "fit(data = wine_train)\n",
    "\n",
    "wine_fit"
   ]
  },
  {
   "cell_type": "code",
   "execution_count": null,
   "id": "787b9943-49c4-4b27-a820-384f87059ed1",
   "metadata": {},
   "outputs": [],
   "source": [
    "set.seed(1234)\n",
    "\n",
    "wine_predictions <- predict(wine_fit, wine_test) |>\n",
    "bind_cols(wine_test)\n",
    "head(wine_predictions)\n",
    "wine_metrics <- wine_predictions |>\n",
    "        metrics(truth = quality, estimate = .pred_class) |> \n",
    "filter(.metric == \"accuracy\")\n",
    "wine_metrics\n",
    "\n",
    "wine_conf_mat <- wine_predictions |> \n",
    "       conf_mat(truth = quality, estimate = .pred_class)\n",
    "\n",
    "wine_conf_mat"
   ]
  },
  {
   "cell_type": "markdown",
   "id": "794585ec-adf1-4ef9-bd99-6d1b3f902869",
   "metadata": {},
   "source": [
    "### Analysis Visualization"
   ]
  },
  {
   "cell_type": "code",
   "execution_count": null,
   "id": "2d7ceb5f-5991-49cb-89dd-62a8f44564e6",
   "metadata": {},
   "outputs": [],
   "source": [
    "options(repr.plot.width = 8, repr.plot.height = 8) \n",
    "\n",
    "autoplot(wine_conf_mat, type = \"heatmap\") +\n",
    "    scale_fill_distiller(palette = \"YlOrRd\", name = \"Frequency\") + \n",
    "    labs(title = \"Quality Confusion Matrix\") +\n",
    "    theme(legend.position = \"left\", text = element_text(size = 22),\n",
    "          plot.caption = element_text(size = 15, hjust = 0))"
   ]
  },
  {
   "cell_type": "markdown",
   "id": "81cc3cfc-97d7-4310-b4ca-ec110be9b662",
   "metadata": {},
   "source": [
    ">**Figure 4:**"
   ]
  },
  {
   "cell_type": "code",
   "execution_count": null,
   "id": "25f3e9ef-e3b8-4f31-998a-2b817a011516",
   "metadata": {},
   "outputs": [],
   "source": [
    "options(repr.plot.width = 8, repr.plot.height = 8) \n",
    "\n",
    "data <- wine_train %>%\n",
    "mutate(type = \"training\") \n",
    "\n",
    "data2 <- wine_test %>%\n",
    "mutate(type = \"predictor\")\n",
    "combined <- rbind(data, data2)\n",
    "head(combined)\n",
    "\n",
    "ggpairs(combined, aes(colour = type), columns = 1:4)"
   ]
  },
  {
   "cell_type": "markdown",
   "id": "70bb5a25-30b4-4ccd-8683-bc02bad8fccc",
   "metadata": {},
   "source": [
    ">**Figure 5:**"
   ]
  },
  {
   "cell_type": "markdown",
   "id": "8a3f3d99-aee9-42c9-a2bd-9a67584db06e",
   "metadata": {},
   "source": [
    "## **Discussion**"
   ]
  },
  {
   "cell_type": "markdown",
   "id": "81be8168-5994-4c59-9641-d9c4cd9006d6",
   "metadata": {},
   "source": [
    "Include that we tried to balance the data because it was imbalanced (for example there were only 10 of quality 3 and ~600 for 5 and 6) but the themis package wouldnt load. In order  to improve our accuracy we would do the balancing step with the step_upsample function. and also forward selection instead of eyeballing the visualizations."
   ]
  },
  {
   "cell_type": "markdown",
   "id": "1f692e60-dbb4-4aad-9d52-937187b74e17",
   "metadata": {},
   "source": [
    "## **References**"
   ]
  },
  {
   "cell_type": "markdown",
   "id": "86b4c407-22d3-451e-a7a0-1e7be1b19b39",
   "metadata": {},
   "source": [
    "Literature sources:\n",
    "\n",
    "* Cortez, Paulo, et al. \"Modeling wine preferences by data mining from physicochemical properties.\" Decision Support Systems, ScienceDirect, May 2009, https://www.sciencedirect.com/science/article/abs/pii/S0167923609001377.\n",
    " \n",
    "*  Mor, Nuriel Shalom, et al. \"Wine Quality and Type Prediction from Physicochemical Properties Using Neural Networks for Machine Learning: A Free Software for Winemakers and Customers.\" Journal of Wine Research, Taylor & Francis Online, 2019, https://www.tandfonline.com/doi/full/10.1080/09571264.2019.1590937.\n",
    "\n",
    "Data source: \n",
    "\n",
    "* "
   ]
  },
  {
   "cell_type": "code",
   "execution_count": null,
   "id": "16536ea9-12c0-4fab-a168-9a16b0233499",
   "metadata": {},
   "outputs": [],
   "source": []
  }
 ],
 "metadata": {
  "kernelspec": {
   "display_name": "R",
   "language": "R",
   "name": "ir"
  },
  "language_info": {
   "codemirror_mode": "r",
   "file_extension": ".r",
   "mimetype": "text/x-r-source",
   "name": "R",
   "pygments_lexer": "r",
   "version": "4.1.3"
  }
 },
 "nbformat": 4,
 "nbformat_minor": 5
}
