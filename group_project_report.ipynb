{
 "cells": [
  {
   "cell_type": "markdown",
   "id": "74736dc0-9964-46e5-8558-794042fed86c",
   "metadata": {},
   "source": [
    "\n",
    "# **Using Physicochemical Elements to Predict Wine Quality**\n"
   ]
  },
  {
   "cell_type": "markdown",
   "id": "1e313dc7-17cc-4fa3-9060-3c800431210c",
   "metadata": {
    "tags": []
   },
   "source": [
    "## Introduction\n",
    "\n",
    " Wine is a complex beverage composed of numerous compounds that contribute to its overall quality and taste. It is viewed as a luxury good and it is enjoyed by many consumers all over the world. The beverage's quality is most commonly assessed through both physicochemical properties and sensory tests (Mor et al.), we used this vital piece of information as the basis for our project. In this data science project, we will determine the most influential physicochemical compounds within wine to most accurately predict overall wine quality.  \n",
    "\n",
    "\n",
    " Through data analysis, we hope to find predictive relationships in certain compounds that make up wine in hopes of answering our project’s primary question: \n",
    " **How accurately can we predict the quality of wine with the most relevant physicochemical elements using the K-nearest neighbors classification algorithm?**\n",
    "\n",
    " We will use a 2009 “Wine Quality” dataset from Portugal which models several different red wines based on physicochemical tests and their quality from sensory data as a score between 0 and 10. Portugal is one of the top 10 countries that export wine, for which the wine industry is investing in technologies for winemaking and selling. For this dataset, wine certification and quality assessment are key elements. \n",
    " These are the columns of the dataset.\n",
    " \n",
    "* 1 - fixed acidity\n",
    "* 2 - volatile acidity\n",
    "* 3 - citric acid\n",
    "* 4 - residual sugar\n",
    "* 5 - chlorides\n",
    "* 6 - free sulfur dioxide\n",
    "* 7 - total sulfur dioxide\n",
    "* 8 - density\n",
    "* 9 - pH\n",
    "* 10 - sulphates\n",
    "* 11 - alcohol\n",
    "* Output variable (based on sensory data): \n",
    "* 12 - quality (score between 0 and 10)\n",
    "\n"
   ]
  },
  {
   "cell_type": "markdown",
   "id": "cb11dec9-c54b-4a3f-8546-de66349b2d33",
   "metadata": {},
   "source": [
    "\n"
   ]
  },
  {
   "cell_type": "markdown",
   "id": "8889f79b-f69c-4c1b-9527-ba52cdb5b41d",
   "metadata": {},
   "source": [
    "## Methods and Results"
   ]
  },
  {
   "cell_type": "code",
   "execution_count": null,
   "id": "7a399a22-5afd-4d1f-afd7-8d8b6d1f07c6",
   "metadata": {},
   "outputs": [
    {
     "name": "stderr",
     "output_type": "stream",
     "text": [
      "── \u001b[1mAttaching packages\u001b[22m ─────────────────────────────────────── tidyverse 1.3.1 ──\n",
      "\n",
      "\u001b[32m✔\u001b[39m \u001b[34mggplot2\u001b[39m 3.3.6     \u001b[32m✔\u001b[39m \u001b[34mpurrr  \u001b[39m 0.3.4\n",
      "\u001b[32m✔\u001b[39m \u001b[34mtibble \u001b[39m 3.1.7     \u001b[32m✔\u001b[39m \u001b[34mdplyr  \u001b[39m 1.0.9\n",
      "\u001b[32m✔\u001b[39m \u001b[34mtidyr  \u001b[39m 1.2.0     \u001b[32m✔\u001b[39m \u001b[34mstringr\u001b[39m 1.4.0\n",
      "\u001b[32m✔\u001b[39m \u001b[34mreadr  \u001b[39m 2.1.2     \u001b[32m✔\u001b[39m \u001b[34mforcats\u001b[39m 0.5.1\n",
      "\n",
      "── \u001b[1mConflicts\u001b[22m ────────────────────────────────────────── tidyverse_conflicts() ──\n",
      "\u001b[31m✖\u001b[39m \u001b[34mdplyr\u001b[39m::\u001b[32mfilter()\u001b[39m masks \u001b[34mstats\u001b[39m::filter()\n",
      "\u001b[31m✖\u001b[39m \u001b[34mdplyr\u001b[39m::\u001b[32mlag()\u001b[39m    masks \u001b[34mstats\u001b[39m::lag()\n",
      "\n"
     ]
    }
   ],
   "source": [
    "library(tidyverse)\n",
    "library(tidymodels)\n",
    "library(repr)\n",
    "library(RColorBrewer)\n"
   ]
  },
  {
   "cell_type": "code",
   "execution_count": null,
   "id": "3ca350c3-ff3a-4e6f-938d-52b0f06aa72b",
   "metadata": {},
   "outputs": [],
   "source": [
    "wine_data <- read_csv2(\"https://raw.githubusercontent.com/choialice707/DSCI-100-Group56-Proj/main/winequality-red.csv\") |>\n",
    "    mutate(quality = as_factor(quality)) |>\n",
    "    filter(alcohol < 150) |>\n",
    "        mutate(`volatile acidity` = as.numeric(`volatile acidity`),\n",
    "                `citric acid` = as.numeric(`citric acid`),\n",
    "                chlorides = as.numeric(chlorides),\n",
    "                density = as.numeric(density),\n",
    "                sulphates = as.numeric(sulphates)) |>\n",
    "na.omit()\n",
    "head(wine_data)\n",
    "tail(wine_data)"
   ]
  },
  {
   "cell_type": "markdown",
   "id": "746a0385-1166-4e2d-9788-57d247b7c831",
   "metadata": {},
   "source": [
    " The first step in our data analysis, after loading the necessary packgages, was to read the \"wine quality\" dataset imported onto Jupyter. We then filtered the alcohol variable to be less than 150 to remove any outliers that would otherwise skew the visualization to be clustered in one line. This allowed us to better compare the variables. Finally, we mutated each of the variables with as.numeric to convert the character vectors into a numeric vector, so that the axis numbers are more easily readable."
   ]
  },
  {
   "cell_type": "code",
   "execution_count": null,
   "id": "a3f6e68b-d54a-4c34-9e34-b75c8e1b2872",
   "metadata": {},
   "outputs": [],
   "source": [
    "wine_data_scaled <- wine_data |> \n",
    " mutate(scaled_fixed_acidity = scale(`fixed acidity`, center = TRUE), \n",
    "        scaled_volatile_acidity = scale(`volatile acidity`, center = TRUE),\n",
    "        scaled_citric_acid = scale(`citric acid`, center = TRUE),\n",
    "        scaled_chlorides = scale(chlorides, center = TRUE),\n",
    "        scaled_free_sulfur_dioxide = scale(`free sulfur dioxide`, center = TRUE),\n",
    "        scaled_total_sulfur_dioxide = scale(`total sulfur dioxide`, center = TRUE),\n",
    "        scaled_density = scale(density, center = TRUE),\n",
    "        scaled_pH = scale(pH, center = TRUE),\n",
    "        scaled_sulphates = scale(sulphates, center = TRUE),\n",
    "        scaled_alcohol = scale(alcohol, center = TRUE))\n",
    "\n",
    "head(wine_data_scaled)"
   ]
  },
  {
   "cell_type": "markdown",
   "id": "b08398ab-d9b6-4c5c-aa52-b255481a1138",
   "metadata": {},
   "source": [
    " Here the data used was scaled to ensure clear visualizations and facilitate effective comparison of variables since the distances between the points would have otherwise have different significances for the y and x axis . Scaling was performed using standardization, which standardized the range and distribution of the physicochemical elements. This process allowed for a fair and meaningful visual analysis, ensuring that variables with different scales did not dominate the visualizations. As a result, scaling the data improved the clarity and interpretability of the visual comparisons, aiding in the assessment of relationships between the physicochemical elements and wine quality."
   ]
  },
  {
   "cell_type": "code",
   "execution_count": null,
   "id": "871c8ca7-0140-4f23-96a9-8a6e30b2849b",
   "metadata": {},
   "outputs": [],
   "source": [
    "set.seed(1234)\n",
    "\n",
    "wine_split <- initial_split(wine_data_scaled, prop = 0.75 , strata = quality)  \n",
    "wine_train <- training(wine_split)   \n",
    "wine_test <- testing(wine_split)\n",
    "\n",
    "head(wine_train)\n",
    "head(wine_test)"
   ]
  },
  {
   "cell_type": "code",
   "execution_count": null,
   "id": "ffa1ba8e-f6e1-4bcd-a4d9-b9509a44228f",
   "metadata": {},
   "outputs": [],
   "source": [
    "wine_summary <- wine_train |>\n",
    "    group_by(quality) |>\n",
    "    summarize(count_per_quality = n()) \n",
    "\n",
    "wine_summary"
   ]
  },
  {
   "cell_type": "code",
   "execution_count": null,
   "id": "82130a41-f1fb-492d-a60a-64bfdc6e0e23",
   "metadata": {},
   "outputs": [],
   "source": [
    "options(repr.plot.width = 8, repr.plot.height = 8) \n",
    "\n",
    "wine_summary_plot <- wine_summary |>\n",
    "    ggplot(aes(x = quality, y = count_per_quality)) +\n",
    "    geom_bar(stat = \"identity\") +\n",
    "    labs(x = \"Quality of Wine\", y = \"Total instances\")\n",
    "    \n",
    "wine_summary_plot"
   ]
  },
  {
   "cell_type": "code",
   "execution_count": null,
   "id": "5c542e93-d9b2-4f1f-9e69-84b8100422c0",
   "metadata": {},
   "outputs": [],
   "source": [
    "library(gridExtra)\n",
    "options(repr.plot.width = 25, repr.plot.height = 6) \n",
    "\n",
    "wine_plot1 <- wine_train |>\n",
    "  ggplot(aes(x = scaled_sulphates, y = scaled_pH, color = quality)) +\n",
    "  geom_point(alpha = 0.6) +\n",
    "  labs(x = \"Sulphates \", \n",
    "       y = \"pH\",\n",
    "       color = \"Quality\") +\n",
    "  theme(text = element_text(size = 17))+\n",
    "scale_color_brewer(palette = \"Set2\")\n",
    "\n",
    "wine_plot2 <- wine_train |>\n",
    "  ggplot(aes(x = scaled_sulphates, y = scaled_total_sulfur_dioxide, color = quality)) +\n",
    "  geom_point(alpha = 0.6) +\n",
    "  labs(x = \"Sulphates \", \n",
    "       y = \"Total Sulfur Dioxide\",\n",
    "       color = \"Quality\") +\n",
    "  theme(text = element_text(size = 17))+\n",
    "scale_color_brewer(palette = \"Set2\")\n",
    "\n",
    "wine_plot3 <- wine_train |>\n",
    "  ggplot(aes(x = scaled_sulphates, y = scaled_alcohol, color = quality)) +\n",
    "  geom_point(alpha = 0.6) +\n",
    "  labs(x = \"Sulphates\", \n",
    "       y = \"Alcohol\",\n",
    "       color = \"Quality\") +\n",
    "  theme(text = element_text(size = 17))+\n",
    "scale_color_brewer(palette = \"Set2\")\n",
    "\n",
    "wine_plot4 <- wine_train |>\n",
    "  ggplot(aes(x = scaled_sulphates, y = scaled_volatile_acidity, color = quality)) +\n",
    "  geom_point(alpha = 0.6) +\n",
    "  labs(x = \"Sulphates\", \n",
    "       y = \"Volatile Acidity\",\n",
    "       color = \"Quality\") +\n",
    "  theme(text = element_text(size = 17))+\n",
    "scale_color_brewer(palette = \"Set2\")\n",
    "\n",
    "#############\n",
    "\n",
    "\n",
    "wine_plot5 <- wine_train |>\n",
    "  ggplot(aes(x = scaled_pH, y = scaled_total_sulfur_dioxide, color = quality)) +\n",
    "  geom_point(alpha = 0.6) +\n",
    "  labs(x = \"pH\", \n",
    "       y = \"Total Sulfur Dioxide\",\n",
    "       color = \"Quality\") +\n",
    "  theme(text = element_text(size = 17))+\n",
    "scale_color_brewer(palette = \"Set2\")\n",
    "\n",
    "wine_plot6 <- wine_train |>\n",
    "  ggplot(aes(x = scaled_pH, y = scaled_alcohol, color = quality)) +\n",
    "  geom_point(alpha = 0.6) +\n",
    "  labs(x = \"pH\", \n",
    "       y = \"Alcohol\",\n",
    "       color = \"Quality\") +\n",
    "  theme(text = element_text(size = 17))+\n",
    "scale_color_brewer(palette = \"Set2\")\n",
    "\n",
    "wine_plot7 <- wine_train |>\n",
    "  ggplot(aes(x = scaled_pH, y = scaled_volatile_acidity, color = quality)) +\n",
    "  geom_point(alpha = 0.6) +\n",
    "  labs(x = \"pH\", \n",
    "       y = \"Volatile Acidity\",\n",
    "       color = \"Quality\") +\n",
    "  theme(text = element_text(size = 17))+\n",
    "scale_color_brewer(palette = \"Set2\")\n",
    "\n",
    "#########\n",
    "\n",
    "\n",
    "wine_plot8 <- wine_train |>\n",
    "  ggplot(aes(x = scaled_total_sulfur_dioxide, y = scaled_alcohol, color = quality)) +\n",
    "  geom_point(alpha = 0.6) +\n",
    "  labs(x = \"Total_sulfur_dioxide\", \n",
    "       y = \"Scaled Alcohol\",\n",
    "       color = \"Quality\") +\n",
    "  theme(text = element_text(size = 17))+\n",
    "scale_color_brewer(palette = \"Set2\")\n",
    "\n",
    "wine_plot9 <- wine_train |>\n",
    "  ggplot(aes(x = scaled_total_sulfur_dioxide, y = scaled_volatile_acidity, color = quality)) +\n",
    "  geom_point(alpha = 0.6) +\n",
    "  labs(x = \"Total Sulfur Dioxide\", \n",
    "       y = \"Volatile Acidity\",\n",
    "       color = \"Quality\") +\n",
    "  theme(text = element_text(size = 17))+\n",
    "scale_color_brewer(palette = \"Set2\")\n",
    "\n",
    "##########\n",
    "\n",
    "\n",
    "wine_plot10 <- wine_train |>\n",
    "  ggplot(aes(x = scaled_alcohol, y = scaled_volatile_acidity, color = quality)) +\n",
    "  geom_point(alpha = 0.6) +\n",
    "  labs(x = \"Alcohol\", \n",
    "       y = \"Volatile Acidity\",\n",
    "       color = \"Quality\") +\n",
    "  theme(text = element_text(size = 17))+\n",
    "scale_color_brewer(palette = \"Set2\")\n",
    "\n",
    "\n",
    "\n",
    "grid.arrange(wine_plot1, wine_plot2, wine_plot3, wine_plot4, nrow = 1, top = '.')\n",
    "grid.arrange(wine_plot5, wine_plot6, wine_plot7, nrow = 1, top = '.')\n",
    "grid.arrange(wine_plot8, wine_plot9, wine_plot10, nrow = 1, top = '.')\n",
    "\n",
    "     "
   ]
  },
  {
   "cell_type": "markdown",
   "id": "9cc4656f-a8b6-4cae-8f7d-213219c292da",
   "metadata": {},
   "source": [
    " To determine the variables to include, we referred to a research paper by Cortez et al. as a valuable source of information. According to the findings presented in the paper, the top five relevant variables for predicting wine quality were sulphates, pH, total sulfur dioxide, alcohol, and volatile acidity. We conducted a comparative analysis among these five elements to validate and select the most suitable variables for our prediction model.\n",
    "\n",
    " By examining the relationships and patterns between these variables, we aimed to identify which ones exhibited the strongest correlations and clear distributions with wine quality. This was done by visually examining the patterns and trends through plotting each variable against each other. We then assessed the strength of the relationships, selecting the variables with the highest correlations as the most relevant for our model.\n",
    "\n",
    " Upon analyzing the results of our comparison, we determined that sulphates, sulfur dioxide, pH values, and alcohol displayed the most consistent and significant associations with wine quality. Therefore, these variables were selected as the most appropriate for inclusion in our prediction model using the KNN classification algorithm."
   ]
  },
  {
   "cell_type": "code",
   "execution_count": null,
   "id": "44e5c334-4730-4d43-96ca-eb9dcadb563a",
   "metadata": {},
   "outputs": [],
   "source": [
    "set.seed(1234)\n",
    "\n",
    "wine_recipe <- recipe(quality ~ scaled_sulphates + scaled_pH + scaled_total_sulfur_dioxide + scaled_alcohol, data = wine_train)\n",
    "wine_recipe\n",
    "\n",
    "wine_tune <- nearest_neighbor(weight_func = \"rectangular\", neighbors = tune()) |>\n",
    "      set_engine(\"kknn\") |>\n",
    "      set_mode(\"classification\")\n",
    "wine_tune\n"
   ]
  },
  {
   "cell_type": "code",
   "execution_count": null,
   "id": "f4359cbe-26a2-450b-8e07-7026454b4fb1",
   "metadata": {},
   "outputs": [],
   "source": [
    "set.seed(1234)\n",
    "\n",
    "wine_vfold <- vfold_cv(wine_train, v = 5, strata = quality)"
   ]
  },
  {
   "cell_type": "code",
   "execution_count": null,
   "id": "12c01516-4584-4438-a7f8-a8b5b30cb1f6",
   "metadata": {},
   "outputs": [],
   "source": [
    "set.seed(1234)\n",
    "\n",
    "k_vals <- tibble(neighbors = seq(2, 10, 1))\n",
    "\n",
    "wine_results <- workflow() |>\n",
    "      add_recipe(wine_recipe) |>\n",
    "      add_model(wine_tune) |>\n",
    "      tune_grid(resamples = wine_vfold, grid = k_vals) |>\n",
    "      collect_metrics()\n",
    "wine_results"
   ]
  },
  {
   "cell_type": "code",
   "execution_count": null,
   "id": "98cfaec4-ca4d-4bac-a850-7856ce4e32ce",
   "metadata": {},
   "outputs": [],
   "source": [
    "wine_accuracies <- wine_results |>\n",
    "    filter(.metric == \"accuracy\")\n",
    "wine_accuracies"
   ]
  },
  {
   "cell_type": "code",
   "execution_count": null,
   "id": "7ff771dd-bb66-4c26-b677-e98f899032cd",
   "metadata": {},
   "outputs": [],
   "source": [
    "options(repr.plot.width = 10, repr.plot.height = 10) \n",
    "\n",
    "accuracy_vs_k_plot <- wine_accuracies |>\n",
    "    ggplot(aes(x = neighbors, y = mean))+\n",
    "    geom_point() +\n",
    "    geom_line() +\n",
    "    labs(x = \"Neighbors\", y = \"Accuracy Estimate\") +\n",
    "    scale_x_continuous(breaks = seq(0, 10, by = 1)) +  # adjusting the x-axis\n",
    "    scale_y_continuous(limits = c(0.5, 0.6)) # adjusting the y-axis\n",
    "\n",
    "accuracy_vs_k_plot"
   ]
  },
  {
   "cell_type": "code",
   "execution_count": null,
   "id": "f9a30f9f-2f10-4a5d-8b6e-42954f7d7f1e",
   "metadata": {},
   "outputs": [],
   "source": [
    "choice_of_k <- wine_accuracies |>\n",
    "    arrange(desc(mean)) |>\n",
    "    slice(1) |>\n",
    "    pull(neighbors)\n",
    "choice_of_k"
   ]
  },
  {
   "cell_type": "code",
   "execution_count": null,
   "id": "befa8949-d7b9-4b35-8256-e77f8513f4a2",
   "metadata": {},
   "outputs": [],
   "source": [
    "set.seed(1234) \n",
    "\n",
    "wine_recipe_2 <- recipe(quality ~ scaled_sulphates + scaled_pH + scaled_total_sulfur_dioxide + scaled_alcohol, data = wine_train)\n",
    "wine_recipe_2\n",
    "\n",
    "wine_spec <-  nearest_neighbor(weight_func = \"rectangular\", neighbors = choice_of_k)|>\n",
    "    set_engine(\"kknn\") |>\n",
    "     set_mode(\"classification\")\n",
    "\n",
    "wine_spec\n",
    "\n"
   ]
  },
  {
   "cell_type": "code",
   "execution_count": null,
   "id": "5f8752d7-4ec8-413f-a41a-031d4c2f0e16",
   "metadata": {},
   "outputs": [],
   "source": [
    "wine_fit <- workflow() |>\n",
    "add_recipe(wine_recipe_2) |>\n",
    "add_model(wine_spec) |>\n",
    "fit(data = wine_train)\n",
    "\n",
    "wine_fit"
   ]
  },
  {
   "cell_type": "code",
   "execution_count": null,
   "id": "787b9943-49c4-4b27-a820-384f87059ed1",
   "metadata": {},
   "outputs": [],
   "source": [
    "set.seed(1234)\n",
    "\n",
    "wine_predictions <- predict(wine_fit, wine_test) |>\n",
    "bind_cols(wine_test)\n",
    "head(wine_predictions)\n",
    "wine_metrics <- wine_predictions |>\n",
    "        metrics(truth = quality, estimate = .pred_class) |> \n",
    "filter(.metric == \"accuracy\")\n",
    "wine_metrics\n",
    "\n",
    "wine_conf_mat <- wine_predictions |> \n",
    "       conf_mat(truth = quality, estimate = .pred_class)\n",
    "\n",
    "wine_conf_mat"
   ]
  },
  {
   "cell_type": "code",
   "execution_count": 1,
   "id": "2d7ceb5f-5991-49cb-89dd-62a8f44564e6",
   "metadata": {},
   "outputs": [
    {
     "ename": "ERROR",
     "evalue": "Error in autoplot(wine_conf_mat, type = \"heatmap\"): could not find function \"autoplot\"\n",
     "output_type": "error",
     "traceback": [
      "Error in autoplot(wine_conf_mat, type = \"heatmap\"): could not find function \"autoplot\"\nTraceback:\n"
     ]
    }
   ],
   "source": [
    "autoplot(wine_conf_mat, type = \"heatmap\") +\n",
    "    scale_fill_distiller(palette = \"Oranges\", name = \"Frequency\") + \n",
    "    labs(title = \"Quality Confusion Matrix\", caption = \"[Figure 1.3]\") +\n",
    "    theme(legend.position = \"left\", text = element_text(size = 22),\n",
    "          plot.caption = element_text(size = 15, hjust = 0))"
   ]
  },
  {
   "cell_type": "code",
   "execution_count": null,
   "id": "2abced1b-566f-4bcc-8bb9-657a1e6b8c31",
   "metadata": {},
   "outputs": [],
   "source": [
    "# create the grid of area/smoothness vals, and arrange in a data frame\n",
    "sul_grid <- seq(min(wine_test$scaled_sulphates), \n",
    "                max(wine_test$scaled_sulphates), \n",
    "                length.out = 100)\n",
    "\n",
    "pH_grid <- seq(min(wine_test$scaled_pH), \n",
    "                max(wine_test$scaled_pH), \n",
    "                length.out = 100)\n",
    "\n",
    "asgrid <- as_tibble(expand.grid(scaled_sulphates = sul_grid, \n",
    "                                scaled_pH = pH_grid))\n",
    "\n",
    "# use the fit workflow to make predictions at the grid points\n",
    "knnPredGrid <- predict(wine_fit, asgrid)\n",
    "\n",
    "# bind the predictions as a new column with the grid points\n",
    "prediction_table <- bind_cols(knnPredGrid, asgrid) |> \n",
    "  rename(Class = .pred_class)\n",
    "\n",
    "# plot:\n",
    "# 1. the colored scatter of the original data\n",
    "# 2. the faded colored scatter for the grid points\n",
    "wkflw_plot <-\n",
    "  ggplot() +\n",
    "  geom_point(data = wine_test, \n",
    "             mapping = aes(x = scaled_pH, \n",
    "                           y = scaled_sulphates, \n",
    "                           color = quality), \n",
    "             alpha = 0.75) +\n",
    "  geom_point(data = prediction_table, \n",
    "             mapping = aes(x = scaled_pH, \n",
    "                           y = scaled_sulphates, \n",
    "                           color = quality), \n",
    "             alpha = 0.02, \n",
    "             size = 5) +\n",
    "  labs(color = \"Quality\", \n",
    "       x = \"pH (scaled)\", \n",
    "       y = \"Sulphates (scaled)\") +\n",
    "\n",
    "  theme(text = element_text(size = 12))\n",
    "\n",
    "wkflw_plot"
   ]
  },
  {
   "cell_type": "code",
   "execution_count": null,
   "id": "8cffc874-7605-4e6f-afa7-47d2bb5bf003",
   "metadata": {},
   "outputs": [],
   "source": []
  },
  {
   "cell_type": "markdown",
   "id": "8a3f3d99-aee9-42c9-a2bd-9a67584db06e",
   "metadata": {},
   "source": [
    "## **Discussion**"
   ]
  },
  {
   "cell_type": "markdown",
   "id": "81be8168-5994-4c59-9641-d9c4cd9006d6",
   "metadata": {},
   "source": [
    "Include that we tried to balance the data because it was imbalanced (for example there were only 10 of quality 3 and ~600 for 5 and 6) but the themis package wouldnt load. In order  to improve our accuracy we would do the balancing step with the step_upsample function."
   ]
  },
  {
   "cell_type": "markdown",
   "id": "1f692e60-dbb4-4aad-9d52-937187b74e17",
   "metadata": {},
   "source": [
    "## **References**"
   ]
  },
  {
   "cell_type": "markdown",
   "id": "86b4c407-22d3-451e-a7a0-1e7be1b19b39",
   "metadata": {},
   "source": [
    "#### Cortez, Paulo, et al. \"Modeling wine preferences by data mining from physicochemical properties.\" Decision Support Systems, ScienceDirect, May 2009, https://www.sciencedirect.com/science/article/abs/pii/S0167923609001377.\n",
    "\n",
    "#### Mor, Nuriel Shalom, et al. \"Wine Quality and Type Prediction from Physicochemical Properties Using Neural Networks for Machine Learning: A Free Software for Winemakers and Customers.\" Journal of Wine Research, Taylor & Francis Online, 2019, https://www.tandfonline.com/doi/full/10.1080/09571264.2019.1590937.\n"
   ]
  }
 ],
 "metadata": {
  "kernelspec": {
   "display_name": "R",
   "language": "R",
   "name": "ir"
  },
  "language_info": {
   "codemirror_mode": "r",
   "file_extension": ".r",
   "mimetype": "text/x-r-source",
   "name": "R",
   "pygments_lexer": "r",
   "version": "4.1.3"
  }
 },
 "nbformat": 4,
 "nbformat_minor": 5
}
